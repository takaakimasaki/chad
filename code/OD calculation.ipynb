{
 "cells": [
  {
   "cell_type": "code",
   "execution_count": 1,
   "metadata": {},
   "outputs": [
    {
     "name": "stdout",
     "output_type": "stream",
     "text": [
      "peartree version: 0.6.1 \n",
      "networkx version: 2.2 \n",
      "matplotlib version: 3.0.3 \n",
      "osmnx version: 0.9 \n"
     ]
    }
   ],
   "source": [
    "import geopandas as gpd\n",
    "import os, sys, time\n",
    "import pandas as pd\n",
    "# add to your system path the location of the LoadOSM.py and GOSTnet.py scripts\n",
    "codepath = r\"C:\\Users\\acer\\Documents\\GitHub\\GOST_PublicGoods\\GOSTNets\\GOSTNets\"\n",
    "temppath = r\"C:\\Users\\acer\\Dropbox\\projects\\chad\\temp\"\n",
    "outpath = r\"C:\\Users\\acer\\Dropbox\\projects\\chad\\output\"\n",
    "\n",
    "sys.path.append(codepath)\n",
    "import GOSTnet as gn\n",
    "import importlib\n",
    "import networkx as nx\n",
    "import osmnx as ox\n",
    "from shapely.ops import unary_union\n",
    "from shapely.wkt import loads\n",
    "from shapely.geometry import LineString, MultiLineString, Point"
   ]
  },
  {
   "cell_type": "code",
   "execution_count": 2,
   "metadata": {},
   "outputs": [
    {
     "name": "stderr",
     "output_type": "stream",
     "text": [
      "C:\\Users\\acer\\Documents\\GitHub\\GOST_PublicGoods\\GOSTNets\\GOSTNets\\GOSTnet.py:1591: FutureWarning: Method .as_matrix will be removed in a future version. Use .values instead.\n",
      "  G_tree = spatial.KDTree(node_gdf[['x','y']].as_matrix())\n",
      "C:\\Users\\acer\\Documents\\GitHub\\GOST_PublicGoods\\GOSTNets\\GOSTNets\\GOSTnet.py:1593: FutureWarning: Method .as_matrix will be removed in a future version. Use .values instead.\n",
      "  distances, indices = G_tree.query(in_df[['x','y']].as_matrix())\n"
     ]
    }
   ],
   "source": [
    "G = nx.read_gpickle(r'C:\\Users\\acer\\Dropbox\\projects\\chad\\temp\\CHD_processed.pickle')\n",
    "T = list(nx.strongly_connected_component_subgraphs(G))\n",
    "G = T[0]\n",
    "sl = 40\n",
    "for u, v, data in G.edges(data = True):\n",
    "    data['time'] = ((data['length'] * 1000) / (sl)) * 3600\n",
    "\n",
    "pth = r'C:\\Users\\acer\\Dropbox\\projects\\chad\\input\\from_wb_comp'\n",
    "origins = gpd.read_file(os.path.join(pth, 'Region_region_centroids.shp'))\n",
    "origins_snapped = gn.pandana_snap(G, origins)\n",
    "\n",
    "\n",
    "destinations = gpd.read_file(os.path.join(pth, 'cities.shp'))\n",
    "dests_snapped = gn.pandana_snap(G, destinations)\n",
    "\n",
    "origin_nodes = list(set(origins_snapped.NN))\n",
    "destination_nodes = list(set(dests_snapped.NN))\n",
    "\n",
    "OD_length = gn.calculate_OD(G, origin_nodes, destination_nodes, 999999999999, 'length')\n",
    "OD_time = gn.calculate_OD(G, origin_nodes, destination_nodes, 999999999999, 'time')\n",
    "\n",
    "df_length = pd.DataFrame(OD_length, columns = destination_nodes, index = origin_nodes)\n",
    "df_time = pd.DataFrame(OD_time, columns = destination_nodes, index = origin_nodes)\n",
    "\n",
    "df_length.to_csv(os.path.join(outpath, 'OD_length_Region_region_INSEED.csv'))\n",
    "df_time.to_csv(os.path.join(outpath, 'OD_time_Region_region_INSEED.csv'))"
   ]
  },
  {
   "cell_type": "code",
   "execution_count": 3,
   "metadata": {
    "scrolled": true
   },
   "outputs": [
    {
     "name": "stdout",
     "output_type": "stream",
     "text": [
      "(0, 504, {'Wkt': 'LINESTRING (16.55997673777778 10.84768884184454, 16.58128765777778 10.85659236110965, 16.60792009777778 10.86288948058954, 16.62771253777778 10.8628379105938, 16.63592557777778 10.86732306022319, 16.65524497777778 10.88315216891407, 16.66415425777777 10.88739602856277, 16.67728273777778 10.88987075835788, 16.68003313777777 10.89038861831499, 16.71171601777777 10.8913098582387, 16.72810969777778 10.89636344782008)', 'id': 1236, 'infra_type': 'road', 'osm_id': 1235, 'key': 'edge_1236', 'length': 19.648727670798188, 'Type': 'legitimate', 'time': 1768385.4903718368})\n"
     ]
    }
   ],
   "source": [
    "gn.example_edge(G)"
   ]
  },
  {
   "cell_type": "code",
   "execution_count": 4,
   "metadata": {},
   "outputs": [],
   "source": [
    "# Determine the output path for the Shapefile\n",
    "out = r\"C:\\Users\\acer\\Dropbox\\projects\\chad\\temp\\origins_snapped_Region_region.shp\"\n",
    "\n",
    "# Write the data into that Shapefile\n",
    "origins_snapped.to_file(out)\n",
    "\n",
    "# Determine the output path for the Shapefile\n",
    "out = r\"C:\\Users\\acer\\Dropbox\\projects\\chad\\temp\\dests_snapped_Region_region.shp\"\n",
    "\n",
    "# Write the data into that Shapefile\n",
    "dests_snapped.to_file(out)"
   ]
  },
  {
   "cell_type": "markdown",
   "metadata": {},
   "source": [
    "Replicate the same analysis for district level"
   ]
  },
  {
   "cell_type": "code",
   "execution_count": 5,
   "metadata": {},
   "outputs": [],
   "source": [
    "G = nx.read_gpickle(r'C:\\Users\\acer\\Dropbox\\projects\\chad\\temp\\CHD_processed.pickle')\n",
    "T = list(nx.strongly_connected_component_subgraphs(G))\n",
    "G = T[0]\n",
    "sl = 40\n",
    "for u, v, data in G.edges(data = True):\n",
    "    data['time'] = ((data['length'] * 1000) / (sl)) * 3600\n",
    "\n",
    "pth = r'C:\\Users\\acer\\Dropbox\\projects\\chad\\input\\from_wb_comp'\n",
    "origins = gpd.read_file(os.path.join(pth, 'Dep_tchad_region_centroids.shp'))\n",
    "origins_snapped = gn.pandana_snap(G, origins)\n",
    "\n",
    "\n",
    "destinations = gpd.read_file(os.path.join(pth, 'cities.shp'))\n",
    "dests_snapped = gn.pandana_snap(G, destinations)\n",
    "\n",
    "origin_nodes = list(set(origins_snapped.NN))\n",
    "destination_nodes = list(set(dests_snapped.NN))\n",
    "\n",
    "OD_length = gn.calculate_OD(G, origin_nodes, destination_nodes, 999999999999, 'length')\n",
    "OD_time = gn.calculate_OD(G, origin_nodes, destination_nodes, 999999999999, 'time')\n",
    "\n",
    "df_length = pd.DataFrame(OD_length, columns = destination_nodes, index = origin_nodes)\n",
    "df_time = pd.DataFrame(OD_time, columns = destination_nodes, index = origin_nodes)\n",
    "\n",
    "df_length.to_csv(os.path.join(outpath, 'OD_length_Dep_tchad_region_INSEED.csv'))\n",
    "df_time.to_csv(os.path.join(outpath, 'OD_time_Dep_tchad_region_INSEED.csv'))"
   ]
  },
  {
   "cell_type": "code",
   "execution_count": 6,
   "metadata": {},
   "outputs": [
    {
     "name": "stdout",
     "output_type": "stream",
     "text": [
      "(0, 504, {'Wkt': 'LINESTRING (16.55997673777778 10.84768884184454, 16.58128765777778 10.85659236110965, 16.60792009777778 10.86288948058954, 16.62771253777778 10.8628379105938, 16.63592557777778 10.86732306022319, 16.65524497777778 10.88315216891407, 16.66415425777777 10.88739602856277, 16.67728273777778 10.88987075835788, 16.68003313777777 10.89038861831499, 16.71171601777777 10.8913098582387, 16.72810969777778 10.89636344782008)', 'id': 1236, 'infra_type': 'road', 'osm_id': 1235, 'key': 'edge_1236', 'length': 19.648727670798188, 'Type': 'legitimate', 'time': 1768385.4903718368})\n"
     ]
    }
   ],
   "source": [
    "gn.example_edge(G)"
   ]
  },
  {
   "cell_type": "code",
   "execution_count": 7,
   "metadata": {},
   "outputs": [],
   "source": [
    "# Determine the output path for the Shapefile\n",
    "out = r\"C:\\Users\\acer\\Dropbox\\projects\\chad\\temp\\origins_snapped_Dep_tchad_region.shp\"\n",
    "\n",
    "# Write the data into that Shapefile\n",
    "origins_snapped.to_file(out)\n",
    "\n",
    "# Determine the output path for the Shapefile\n",
    "out = r\"C:\\Users\\acer\\Dropbox\\projects\\chad\\temp\\dests_snapped_Dep_tchad_region.shp\"\n",
    "\n",
    "# Write the data into that Shapefile\n",
    "dests_snapped.to_file(out)"
   ]
  },
  {
   "cell_type": "code",
   "execution_count": null,
   "metadata": {},
   "outputs": [],
   "source": []
  },
  {
   "cell_type": "code",
   "execution_count": null,
   "metadata": {},
   "outputs": [],
   "source": []
  }
 ],
 "metadata": {
  "kernelspec": {
   "display_name": "py36",
   "language": "python",
   "name": "py36"
  },
  "language_info": {
   "codemirror_mode": {
    "name": "ipython",
    "version": 3
   },
   "file_extension": ".py",
   "mimetype": "text/x-python",
   "name": "python",
   "nbconvert_exporter": "python",
   "pygments_lexer": "ipython3",
   "version": "3.6.7"
  }
 },
 "nbformat": 4,
 "nbformat_minor": 2
}
