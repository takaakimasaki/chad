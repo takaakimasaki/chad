{
 "cells": [
  {
   "cell_type": "markdown",
   "metadata": {},
   "source": [
    "### Extract from OSM\n",
    "The purpose of this script is to show how to go from a .osm.pbf file to a network format that GOSTnets will accept. \n",
    "Additional modifications in this script include: clipping the roads to an input polygon (here, kinshasa.shp), and slicing the roads DataFrame by a list of accepted road types, as tagged in OSM (see accepted_road_types list). \n",
    "\n",
    "Before running this, make sure to register your sparkly new environment. By typing: \n",
    "conda activate myenv \n",
    "\n",
    "python -m ipykernel install --user --name [py36]  \\\n",
    "\n",
    "Note that after installing GOSTnets as follows: \\\n",
    "\n",
    "conda create --name test python=3.6 \\\n",
    "conda activate test \\\n",
    "conda install -c conda-forge rtree geopandas rasterio geojson \\\n",
    "git clone https://github.com/worldbank/GOSTnets.git \\\n",
    "python setup.py build \\\n",
    "python setup.py install \\\n",
    "\\\n",
    "Then you manually download: \\\n",
    "\\\n",
    "conda install networkx \\\n",
    "pip install osmnx \\\n",
    "conda install numpy\n"
   ]
  },
  {
   "cell_type": "code",
   "execution_count": 7,
   "metadata": {
    "scrolled": true
   },
   "outputs": [],
   "source": [
    "import sys\n",
    "#!conda install --yes --prefix {sys.prefix} boltons\n",
    "import geopandas as gpd\n",
    "import pandas as pd\n",
    "import os, sys\n",
    "import gdal\n",
    "\n",
    "# add to your system path the location of the LoadOSM.py and GOSTnet.py scripts\n",
    "codepath = r\"C:\\Users\\wb495141\\Documents\\GitHub\\GOSTnets\"\n",
    "\n",
    "sys.path.append(codepath)\n",
    "import GOSTnets as gn\n",
    "from GOSTnets import load_osm as losm\n",
    "import importlib"
   ]
  },
  {
   "cell_type": "markdown",
   "metadata": {},
   "source": [
    "Define filepaths. Since we just need some randome baseline OSM data to which we can add a new road shapefile, we use uzbekistan-latest.osm.pbf. But this could be anything."
   ]
  },
  {
   "cell_type": "code",
   "execution_count": 13,
   "metadata": {},
   "outputs": [
    {
     "data": {
      "text/plain": [
       "'C:/Users/wb495141/OneDrive - WBG/poverty/chad/input/road/uzbekistan-latest.osm.pbf'"
      ]
     },
     "execution_count": 13,
     "metadata": {},
     "output_type": "execute_result"
    }
   ],
   "source": [
    "pth = r'C:/Users/wb495141/OneDrive - WBG/poverty/chad/input/road/'\n",
    "pth2 = r'C:/Users/wb495141/OneDrive - WBG/poverty/chad/temp/'\n",
    "fil = r'uzbekistan-latest.osm.pbf'\n",
    "f = os.path.join(pth, fil)\n",
    "f"
   ]
  },
  {
   "cell_type": "markdown",
   "metadata": {},
   "source": [
    "Using the loadOSM library, pass the filepath of the .osm.pbf to initiate a OSM_to_network class"
   ]
  },
  {
   "cell_type": "code",
   "execution_count": 14,
   "metadata": {},
   "outputs": [
    {
     "name": "stderr",
     "output_type": "stream",
     "text": [
      "C:\\WBG\\Anaconda3\\envs\\py36\\lib\\site-packages\\pyproj\\crs\\crs.py:53: FutureWarning: '+init=<authority>:<code>' syntax is deprecated. '<authority>:<code>' is the preferred initialization method. When making the change, be mindful of axis order changes: https://pyproj4.github.io/pyproj/stable/gotchas.html#axis-order-changes-in-proj-6\n",
      "  return _prepare_from_string(\" \".join(pjargs))\n"
     ]
    }
   ],
   "source": [
    "road_osm = losm.OSM_to_network(f)"
   ]
  },
  {
   "cell_type": "markdown",
   "metadata": {},
   "source": [
    "This generates a property of the class called 'roads_raw'. This is a raw dataframe of the highway objects, extracted from the .osm.pbf. This is the starting point for our network"
   ]
  },
  {
   "cell_type": "code",
   "execution_count": 15,
   "metadata": {},
   "outputs": [],
   "source": [
    "actual_chad = gpd.read_file(os.path.join(pth, 'road.shp'))"
   ]
  },
  {
   "cell_type": "code",
   "execution_count": 16,
   "metadata": {},
   "outputs": [
    {
     "data": {
      "text/html": [
       "<div>\n",
       "<style scoped>\n",
       "    .dataframe tbody tr th:only-of-type {\n",
       "        vertical-align: middle;\n",
       "    }\n",
       "\n",
       "    .dataframe tbody tr th {\n",
       "        vertical-align: top;\n",
       "    }\n",
       "\n",
       "    .dataframe thead th {\n",
       "        text-align: right;\n",
       "    }\n",
       "</style>\n",
       "<table border=\"1\" class=\"dataframe\">\n",
       "  <thead>\n",
       "    <tr style=\"text-align: right;\">\n",
       "      <th></th>\n",
       "      <th>osm_id</th>\n",
       "      <th>infra_type</th>\n",
       "      <th>geometry</th>\n",
       "      <th>LENGTH</th>\n",
       "    </tr>\n",
       "  </thead>\n",
       "  <tbody>\n",
       "    <tr>\n",
       "      <th>0</th>\n",
       "      <td>0</td>\n",
       "      <td>road</td>\n",
       "      <td>LINESTRING (18.33049 21.74411, 18.34925 21.783...</td>\n",
       "      <td>60.760</td>\n",
       "    </tr>\n",
       "    <tr>\n",
       "      <th>1</th>\n",
       "      <td>1</td>\n",
       "      <td>road</td>\n",
       "      <td>LINESTRING (18.02387 21.72066, 18.04944 21.724...</td>\n",
       "      <td>33.049</td>\n",
       "    </tr>\n",
       "    <tr>\n",
       "      <th>2</th>\n",
       "      <td>2</td>\n",
       "      <td>road</td>\n",
       "      <td>LINESTRING (19.21814 21.56853, 19.23689 21.591...</td>\n",
       "      <td>39.488</td>\n",
       "    </tr>\n",
       "    <tr>\n",
       "      <th>3</th>\n",
       "      <td>3</td>\n",
       "      <td>road</td>\n",
       "      <td>LINESTRING (19.21716 21.56672, 19.21741 21.567...</td>\n",
       "      <td>0.225</td>\n",
       "    </tr>\n",
       "    <tr>\n",
       "      <th>4</th>\n",
       "      <td>4</td>\n",
       "      <td>road</td>\n",
       "      <td>LINESTRING (19.30348 21.49296, 19.37666 21.525...</td>\n",
       "      <td>41.913</td>\n",
       "    </tr>\n",
       "    <tr>\n",
       "      <th>...</th>\n",
       "      <td>...</td>\n",
       "      <td>...</td>\n",
       "      <td>...</td>\n",
       "      <td>...</td>\n",
       "    </tr>\n",
       "    <tr>\n",
       "      <th>2221</th>\n",
       "      <td>2221</td>\n",
       "      <td>road</td>\n",
       "      <td>LINESTRING (15.82716 7.63409, 15.82126 7.64952...</td>\n",
       "      <td>26.909</td>\n",
       "    </tr>\n",
       "    <tr>\n",
       "      <th>2222</th>\n",
       "      <td>2222</td>\n",
       "      <td>road</td>\n",
       "      <td>LINESTRING (16.99294 7.84913, 16.97882 7.82449...</td>\n",
       "      <td>29.065</td>\n",
       "    </tr>\n",
       "    <tr>\n",
       "      <th>2223</th>\n",
       "      <td>2223</td>\n",
       "      <td>road</td>\n",
       "      <td>LINESTRING (15.67789 7.67464, 15.67968 7.67237...</td>\n",
       "      <td>18.219</td>\n",
       "    </tr>\n",
       "    <tr>\n",
       "      <th>2224</th>\n",
       "      <td>2224</td>\n",
       "      <td>road</td>\n",
       "      <td>LINESTRING (16.10453 7.72293, 16.10565 7.69377...</td>\n",
       "      <td>14.875</td>\n",
       "    </tr>\n",
       "    <tr>\n",
       "      <th>2225</th>\n",
       "      <td>2225</td>\n",
       "      <td>road</td>\n",
       "      <td>LINESTRING (15.67789 7.67464, 15.66170 7.64115...</td>\n",
       "      <td>24.444</td>\n",
       "    </tr>\n",
       "  </tbody>\n",
       "</table>\n",
       "<p>2226 rows × 4 columns</p>\n",
       "</div>"
      ],
      "text/plain": [
       "      osm_id infra_type                                           geometry  \\\n",
       "0          0       road  LINESTRING (18.33049 21.74411, 18.34925 21.783...   \n",
       "1          1       road  LINESTRING (18.02387 21.72066, 18.04944 21.724...   \n",
       "2          2       road  LINESTRING (19.21814 21.56853, 19.23689 21.591...   \n",
       "3          3       road  LINESTRING (19.21716 21.56672, 19.21741 21.567...   \n",
       "4          4       road  LINESTRING (19.30348 21.49296, 19.37666 21.525...   \n",
       "...      ...        ...                                                ...   \n",
       "2221    2221       road  LINESTRING (15.82716 7.63409, 15.82126 7.64952...   \n",
       "2222    2222       road  LINESTRING (16.99294 7.84913, 16.97882 7.82449...   \n",
       "2223    2223       road  LINESTRING (15.67789 7.67464, 15.67968 7.67237...   \n",
       "2224    2224       road  LINESTRING (16.10453 7.72293, 16.10565 7.69377...   \n",
       "2225    2225       road  LINESTRING (15.67789 7.67464, 15.66170 7.64115...   \n",
       "\n",
       "      LENGTH  \n",
       "0     60.760  \n",
       "1     33.049  \n",
       "2     39.488  \n",
       "3      0.225  \n",
       "4     41.913  \n",
       "...      ...  \n",
       "2221  26.909  \n",
       "2222  29.065  \n",
       "2223  18.219  \n",
       "2224  14.875  \n",
       "2225  24.444  \n",
       "\n",
       "[2226 rows x 4 columns]"
      ]
     },
     "execution_count": 16,
     "metadata": {},
     "output_type": "execute_result"
    }
   ],
   "source": [
    "actual_chad['infra_type'] = 'road'\n",
    "actual_chad['osm_id'] = actual_chad.index\n",
    "actual_chad = actual_chad[['osm_id','infra_type','geometry','LENGTH']]\n",
    "actual_chad"
   ]
  },
  {
   "cell_type": "code",
   "execution_count": 17,
   "metadata": {},
   "outputs": [],
   "source": [
    "road_osm.roads_raw = actual_chad"
   ]
  },
  {
   "cell_type": "code",
   "execution_count": 18,
   "metadata": {},
   "outputs": [
    {
     "data": {
      "text/plain": [
       "road    2226\n",
       "Name: infra_type, dtype: int64"
      ]
     },
     "execution_count": 18,
     "metadata": {},
     "output_type": "execute_result"
    }
   ],
   "source": [
    "road_osm.roads_raw.infra_type.value_counts()"
   ]
  },
  {
   "cell_type": "markdown",
   "metadata": {},
   "source": [
    "Note that kin.generateRoadsGDF runs only if input roadshapefile is projected in WGS84"
   ]
  },
  {
   "cell_type": "code",
   "execution_count": 19,
   "metadata": {},
   "outputs": [
    {
     "name": "stderr",
     "output_type": "stream",
     "text": [
      "C:\\WBG\\Anaconda3\\envs\\py36\\lib\\site-packages\\pyproj\\crs\\crs.py:53: FutureWarning: '+init=<authority>:<code>' syntax is deprecated. '<authority>:<code>' is the preferred initialization method. When making the change, be mindful of axis order changes: https://pyproj4.github.io/pyproj/stable/gotchas.html#axis-order-changes-in-proj-6\n",
      "  return _prepare_from_string(\" \".join(pjargs))\n"
     ]
    }
   ],
   "source": [
    "road_osm.generateRoadsGDF(verbose = False)"
   ]
  },
  {
   "cell_type": "markdown",
   "metadata": {},
   "source": [
    "With initialReadIn(), we transform this to a graph object"
   ]
  },
  {
   "cell_type": "code",
   "execution_count": 20,
   "metadata": {},
   "outputs": [
    {
     "data": {
      "text/plain": [
       "<networkx.classes.multidigraph.MultiDiGraph at 0x241b7c026d8>"
      ]
     },
     "execution_count": 20,
     "metadata": {},
     "output_type": "execute_result"
    }
   ],
   "source": [
    "road_osm.initialReadIn()"
   ]
  },
  {
   "cell_type": "markdown",
   "metadata": {},
   "source": [
    "We save this graph object down to file using gn.save()"
   ]
  },
  {
   "cell_type": "code",
   "execution_count": 21,
   "metadata": {},
   "outputs": [],
   "source": [
    "gn.save(road_osm.network,'chad_G_unclean',pth2)"
   ]
  },
  {
   "cell_type": "code",
   "execution_count": null,
   "metadata": {},
   "outputs": [],
   "source": []
  }
 ],
 "metadata": {
  "kernelspec": {
   "display_name": "Python 3",
   "language": "python",
   "name": "python3"
  },
  "language_info": {
   "codemirror_mode": {
    "name": "ipython",
    "version": 3
   },
   "file_extension": ".py",
   "mimetype": "text/x-python",
   "name": "python",
   "nbconvert_exporter": "python",
   "pygments_lexer": "ipython3",
   "version": "3.6.10"
  }
 },
 "nbformat": 4,
 "nbformat_minor": 2
}
